{
 "cells": [
  {
   "cell_type": "markdown",
   "id": "5232bc8f",
   "metadata": {},
   "source": [
    "Create a Numpy array filled with all zeros"
   ]
  },
  {
   "cell_type": "code",
   "execution_count": 2,
   "id": "b904e420",
   "metadata": {},
   "outputs": [],
   "source": [
    "import numpy as np"
   ]
  },
  {
   "cell_type": "code",
   "execution_count": 3,
   "id": "6a3789dc",
   "metadata": {},
   "outputs": [
    {
     "name": "stdout",
     "output_type": "stream",
     "text": [
      "Matrix a : \n",
      " [0 0 0 0]\n",
      "\n",
      "Matrix b : \n",
      " [[0 0]\n",
      " [0 0]\n",
      " [0 0]]\n"
     ]
    }
   ],
   "source": [
    "a = np.zeros(4, dtype = int) \n",
    "print(\"Matrix a : \\n\", a) \n",
    "  \n",
    "b = np.zeros([3,2], dtype = int) \n",
    "print(\"\\nMatrix b : \\n\", b) "
   ]
  },
  {
   "cell_type": "code",
   "execution_count": 13,
   "id": "93465c4a",
   "metadata": {},
   "outputs": [
    {
     "data": {
      "text/plain": [
       "array([[0., 0., 0.],\n",
       "       [0., 0., 0.],\n",
       "       [0., 0., 0.]])"
      ]
     },
     "execution_count": 13,
     "metadata": {},
     "output_type": "execute_result"
    }
   ],
   "source": [
    "np.zeros([3,3])"
   ]
  },
  {
   "cell_type": "markdown",
   "id": "83c6643a",
   "metadata": {},
   "source": [
    "Create a Numpy array filled with all ones"
   ]
  },
  {
   "cell_type": "code",
   "execution_count": 4,
   "id": "7c230d83",
   "metadata": {},
   "outputs": [
    {
     "name": "stdout",
     "output_type": "stream",
     "text": [
      "Matrix a : \n",
      " [1 1 1 1 1]\n",
      "\n",
      "Matrix b : \n",
      " [[1 1 1]\n",
      " [1 1 1]\n",
      " [1 1 1]\n",
      " [1 1 1]]\n"
     ]
    }
   ],
   "source": [
    " \n",
    "a = np.ones(5, dtype = int)\n",
    "print(\"Matrix a : \\n\", a)\n",
    " \n",
    "b =np.ones([4,3], dtype = int)\n",
    "print(\"\\nMatrix b : \\n\", b)"
   ]
  },
  {
   "cell_type": "code",
   "execution_count": 14,
   "id": "34c94efe",
   "metadata": {},
   "outputs": [
    {
     "data": {
      "text/plain": [
       "array([1., 1., 1., 1., 1., 1.])"
      ]
     },
     "execution_count": 14,
     "metadata": {},
     "output_type": "execute_result"
    }
   ],
   "source": [
    "np.ones(6)"
   ]
  },
  {
   "cell_type": "code",
   "execution_count": 15,
   "id": "857c120b",
   "metadata": {},
   "outputs": [
    {
     "data": {
      "text/plain": [
       "array([[1., 1., 1., 1.],\n",
       "       [1., 1., 1., 1.],\n",
       "       [1., 1., 1., 1.]])"
      ]
     },
     "execution_count": 15,
     "metadata": {},
     "output_type": "execute_result"
    }
   ],
   "source": [
    "np.ones([3,4])"
   ]
  },
  {
   "cell_type": "markdown",
   "id": "a4d96feb",
   "metadata": {},
   "source": [
    "How to Remove rows in Numpy array that contains non-numeric values?"
   ]
  },
  {
   "cell_type": "code",
   "execution_count": 4,
   "id": "bf29deb4",
   "metadata": {},
   "outputs": [
    {
     "name": "stdout",
     "output_type": "stream",
     "text": [
      "[[10.5 22.5  3.8]\n",
      " [41.   nan  nan]]\n"
     ]
    }
   ],
   "source": [
    "n_arr = np.array([[10.5, 22.5, 3.8],\n",
    "                  [41, np.nan, np.nan]])\n",
    "print(n_arr)"
   ]
  },
  {
   "cell_type": "code",
   "execution_count": null,
   "id": "f8ec7eca",
   "metadata": {},
   "outputs": [],
   "source": [
    "np.array([1,2,3])"
   ]
  },
  {
   "cell_type": "code",
   "execution_count": 5,
   "id": "a398a57a",
   "metadata": {},
   "outputs": [
    {
     "name": "stdout",
     "output_type": "stream",
     "text": [
      "Given array:\n",
      "[[10.5 22.5  3.8]\n",
      " [41.   nan  nan]]\n",
      "\n",
      "Remove all rows containing non-numeric elements\n",
      "[[10.5 22.5  3.8]]\n"
     ]
    }
   ],
   "source": [
    "# Creating 2X3 2-D Numpy array\n",
    "n_arr = np.array([[10.5, 22.5, 3.8],\n",
    "                  [41, np.nan, np.nan]])\n",
    "  \n",
    "print(\"Given array:\")\n",
    "print(n_arr)\n",
    "  \n",
    "print(\"\\nRemove all rows containing non-numeric elements\")\n",
    "print(n_arr[~np.isnan(n_arr).any(axis=1)])"
   ]
  },
  {
   "cell_type": "code",
   "execution_count": 9,
   "id": "e5678135",
   "metadata": {},
   "outputs": [
    {
     "data": {
      "text/plain": [
       "array([[10.5, 22.5,  3.8]])"
      ]
     },
     "execution_count": 9,
     "metadata": {},
     "output_type": "execute_result"
    }
   ],
   "source": [
    "n_arr[~np.isnan(n_arr).any(axis=1)]"
   ]
  },
  {
   "cell_type": "markdown",
   "id": "a860a2fc",
   "metadata": {},
   "source": [
    "Find the most frequent value in a NumPy array"
   ]
  },
  {
   "cell_type": "code",
   "execution_count": 12,
   "id": "b6bc381f",
   "metadata": {},
   "outputs": [
    {
     "name": "stdout",
     "output_type": "stream",
     "text": [
      "Original array:\n",
      "[1 2 3 4 5 1 2 1 1 1 2 3 2 2 2 2 2]\n",
      "Most frequent value in the above array:\n",
      "2\n"
     ]
    }
   ],
   "source": [
    "# create array\n",
    "x = np.array([1,2,3,4,5,1,2,1,1,1,2,3,2,2,2,2,2])\n",
    "print(\"Original array:\")\n",
    "print(x)\n",
    "  \n",
    "print(\"Most frequent value in the above array:\")\n",
    "print(np.bincount(x).argmax())"
   ]
  },
  {
   "cell_type": "markdown",
   "id": "8d425f52",
   "metadata": {},
   "source": [
    "How to add a border around a NumPy array?"
   ]
  },
  {
   "cell_type": "code",
   "execution_count": 12,
   "id": "868a9cbc",
   "metadata": {},
   "outputs": [
    {
     "data": {
      "text/plain": [
       "2"
      ]
     },
     "execution_count": 12,
     "metadata": {},
     "output_type": "execute_result"
    }
   ],
   "source": [
    "np.bincount(x).argmax()"
   ]
  },
  {
   "cell_type": "code",
   "execution_count": 16,
   "id": "8e2c5326",
   "metadata": {},
   "outputs": [
    {
     "name": "stdout",
     "output_type": "stream",
     "text": [
      "Original array\n",
      "[[1. 1.]\n",
      " [1. 1.]]\n",
      "\n",
      "0 on the border and 1 inside the array\n",
      "[[0. 0. 0. 0.]\n",
      " [0. 1. 1. 0.]\n",
      " [0. 1. 1. 0.]\n",
      " [0. 0. 0. 0.]]\n"
     ]
    }
   ],
   "source": [
    "# Creating a 2X2 Numpy matrix\n",
    "array = np.ones((2, 2))\n",
    "  \n",
    "print(\"Original array\")\n",
    "print(array)\n",
    "  \n",
    "print(\"\\n0 on the border and 1 inside the array\")\n",
    "  \n",
    "# constructing border of 0 around 2D identity matrix\n",
    "# using np.pad()\n",
    "array = np.pad(array, pad_width=1,\n",
    "               constant_values=0)\n",
    "  \n",
    "print(array)"
   ]
  },
  {
   "cell_type": "markdown",
   "id": "400a93b5",
   "metadata": {},
   "source": [
    "How to compare two NumPy arrays?"
   ]
  },
  {
   "cell_type": "code",
   "execution_count": 19,
   "id": "ce32ad1d",
   "metadata": {},
   "outputs": [
    {
     "name": "stdout",
     "output_type": "stream",
     "text": [
      "True\n"
     ]
    }
   ],
   "source": [
    "an_array = np.array([[1, 2], [3, 4]])\n",
    "another_array = np.array([[1, 2], [3, 4]])\n",
    " \n",
    "comparison = an_array == another_array\n",
    "equal_arrays = comparison.all()\n",
    " \n",
    "print(equal_arrays)"
   ]
  },
  {
   "cell_type": "markdown",
   "id": "448e9504",
   "metadata": {},
   "source": [
    "How to check whether specified values are present in NumPy array?"
   ]
  },
  {
   "cell_type": "code",
   "execution_count": 9,
   "id": "bc73f4d2",
   "metadata": {},
   "outputs": [
    {
     "name": "stdout",
     "output_type": "stream",
     "text": [
      "Given array:\n",
      "[[2 3 0]\n",
      " [4 1 6]]\n",
      "True\n",
      "True\n",
      "True\n",
      "False\n",
      "False\n"
     ]
    }
   ],
   "source": [
    "# creating a Numpy array\n",
    "n_array = np.array([[2, 3, 0],\n",
    "                    [4, 1, 6]])\n",
    "  \n",
    "print(\"Given array:\")\n",
    "print(n_array)\n",
    "  \n",
    "# Checking whether specific values\n",
    "# are present in \"n_array\" or not\n",
    "print(2 in n_array)\n",
    "print(0 in n_array)\n",
    "print(6 in n_array)\n",
    "print(50 in n_array)\n",
    "print(10 in n_array)"
   ]
  },
  {
   "cell_type": "markdown",
   "id": "aa83f1ba",
   "metadata": {},
   "source": [
    "Get the maximum value from given matrix"
   ]
  },
  {
   "cell_type": "code",
   "execution_count": 12,
   "id": "e82f26cb",
   "metadata": {},
   "outputs": [
    {
     "name": "stdout",
     "output_type": "stream",
     "text": [
      "64\n"
     ]
    }
   ],
   "source": [
    "# make matrix with numpy\n",
    "gfg = np.matrix('[64, 1; 12, 3]')\n",
    "          \n",
    "# applying matrix.min() method\n",
    "geeks = gfg.max()\n",
    "print(geeks)"
   ]
  },
  {
   "cell_type": "code",
   "execution_count": 15,
   "id": "a35e7545",
   "metadata": {},
   "outputs": [
    {
     "name": "stdout",
     "output_type": "stream",
     "text": [
      "[ 1  2 56 87 49]\n",
      "87\n"
     ]
    }
   ],
   "source": [
    "a= np.array([1,2,56,87,49])\n",
    "print(a)\n",
    "print(a.max())"
   ]
  },
  {
   "cell_type": "markdown",
   "id": "ec10b00a",
   "metadata": {},
   "source": [
    "Get the minimum value from given matrix"
   ]
  },
  {
   "cell_type": "code",
   "execution_count": 12,
   "id": "64df9bcd",
   "metadata": {},
   "outputs": [
    {
     "name": "stdout",
     "output_type": "stream",
     "text": [
      "1\n"
     ]
    }
   ],
   "source": [
    "# make matrix with numpy\n",
    "gfg = np.matrix('[64, 1; 12, 3]')\n",
    "          \n",
    "# applying matrix.min() method\n",
    "geeks = gfg.min()\n",
    "print(geeks)"
   ]
  },
  {
   "cell_type": "markdown",
   "id": "d90b6561",
   "metadata": {},
   "source": [
    "Select the elements from a given matrix"
   ]
  },
  {
   "cell_type": "code",
   "execution_count": 21,
   "id": "d3476000",
   "metadata": {},
   "outputs": [
    {
     "name": "stdout",
     "output_type": "stream",
     "text": [
      "[[4]]\n"
     ]
    }
   ],
   "source": [
    "# make matrix with numpy\n",
    "gfg = np.matrix('[4, 1, 12, 3, 4, 6, 7]')\n",
    "              \n",
    "# applying matrix.take() method\n",
    "geek = gfg.take(-3)\n",
    "    \n",
    "print(geek)"
   ]
  },
  {
   "cell_type": "markdown",
   "id": "f948d64e",
   "metadata": {},
   "source": [
    "Find the sum of values in a matrix"
   ]
  },
  {
   "cell_type": "code",
   "execution_count": 19,
   "id": "6df5380a",
   "metadata": {},
   "outputs": [
    {
     "name": "stdout",
     "output_type": "stream",
     "text": [
      "20\n"
     ]
    }
   ],
   "source": [
    "# make matrix with numpy\n",
    "gfg = np.matrix('[4, 1; 12, 3]')\n",
    "#gfg = np.matrix('[4, 2; 12, 3]')\n",
    "             \n",
    "# applying matrix.sum() method\n",
    "geek = gfg.sum()\n",
    "   \n",
    "print(geek)"
   ]
  },
  {
   "cell_type": "code",
   "execution_count": 20,
   "id": "41bc7079",
   "metadata": {},
   "outputs": [
    {
     "data": {
      "text/plain": [
       "matrix([[ 8,  2],\n",
       "        [24,  6]])"
      ]
     },
     "execution_count": 20,
     "metadata": {},
     "output_type": "execute_result"
    }
   ],
   "source": [
    "gfg+gfg"
   ]
  },
  {
   "cell_type": "markdown",
   "id": "df474b8c",
   "metadata": {},
   "source": [
    "Calculate the sum of the diagonal elements of a NumPy array"
   ]
  },
  {
   "cell_type": "code",
   "execution_count": 15,
   "id": "094e75d6",
   "metadata": {},
   "outputs": [
    {
     "name": "stdout",
     "output_type": "stream",
     "text": [
      "Numpy Matrix is:\n",
      "[[55 25 15]\n",
      " [30 44  2]\n",
      " [11 45 77]]\n",
      "\n",
      "Trace of given 3X3 matrix:\n",
      "176\n"
     ]
    }
   ],
   "source": [
    "# creating a 3X3 Numpy matrix\n",
    "n_array = np.array([[55, 25, 15],\n",
    "                    [30, 44, 2],\n",
    "                    [11, 45, 77]])\n",
    "  \n",
    "# Displaying the Matrix\n",
    "print(\"Numpy Matrix is:\")\n",
    "print(n_array)\n",
    "  \n",
    "# calculating the Trace of a matrix\n",
    "trace = np.trace(n_array)\n",
    "  \n",
    "  \n",
    "print(\"\\nTrace of given 3X3 matrix:\")\n",
    "print(trace)"
   ]
  },
  {
   "cell_type": "code",
   "execution_count": 28,
   "id": "10742cf8",
   "metadata": {},
   "outputs": [
    {
     "data": {
      "text/plain": [
       "176"
      ]
     },
     "execution_count": 28,
     "metadata": {},
     "output_type": "execute_result"
    }
   ],
   "source": [
    "55+44+77"
   ]
  },
  {
   "cell_type": "markdown",
   "id": "eb2bf030",
   "metadata": {},
   "source": [
    "Adding and Subtracting Matrices in Python"
   ]
  },
  {
   "cell_type": "code",
   "execution_count": 29,
   "id": "2ea24480",
   "metadata": {},
   "outputs": [
    {
     "data": {
      "text/plain": [
       "array([[1, 2],\n",
       "       [3, 4]])"
      ]
     },
     "execution_count": 29,
     "metadata": {},
     "output_type": "execute_result"
    }
   ],
   "source": [
    "np.array([[1, 2], [3, 4]])"
   ]
  },
  {
   "cell_type": "code",
   "execution_count": 16,
   "id": "17539f57",
   "metadata": {},
   "outputs": [
    {
     "name": "stdout",
     "output_type": "stream",
     "text": [
      "Printing elements of first matrix\n",
      "[[1 2]\n",
      " [3 4]]\n",
      "Printing elements of second matrix\n",
      "[[4 5]\n",
      " [6 7]]\n",
      "Addition of two matrix\n",
      "[[ 5  7]\n",
      " [ 9 11]]\n"
     ]
    }
   ],
   "source": [
    "# creating first matrix\n",
    "A = np.array([[1, 2], [3, 4]])\n",
    "  \n",
    "# creating second matrix\n",
    "B = np.array([[4, 5], [6, 7]])\n",
    "  \n",
    "print(\"Printing elements of first matrix\")\n",
    "print(A)\n",
    "print(\"Printing elements of second matrix\")\n",
    "print(B)\n",
    "  \n",
    "# adding two matrix\n",
    "print(\"Addition of two matrix\")\n",
    "print(np.add(A, B))"
   ]
  },
  {
   "cell_type": "code",
   "execution_count": 17,
   "id": "b0a8e07e",
   "metadata": {},
   "outputs": [
    {
     "name": "stdout",
     "output_type": "stream",
     "text": [
      "Printing elements of first matrix\n",
      "[[1 2]\n",
      " [3 4]]\n",
      "Printing elements of second matrix\n",
      "[[4 5]\n",
      " [6 7]]\n",
      "Subtraction of two matrix\n",
      "[[-3 -3]\n",
      " [-3 -3]]\n"
     ]
    }
   ],
   "source": [
    "# creating first matrix\n",
    "A = np.array([[1, 2], [3, 4]])\n",
    "  \n",
    "# creating second matrix\n",
    "B = np.array([[4, 5], [6, 7]])\n",
    "  \n",
    "print(\"Printing elements of first matrix\")\n",
    "print(A)\n",
    "print(\"Printing elements of second matrix\")\n",
    "print(B)\n",
    "  \n",
    "# subtracting two matrix\n",
    "print(\"Subtraction of two matrix\")\n",
    "print(np.subtract(A, B))"
   ]
  },
  {
   "cell_type": "markdown",
   "id": "116bceb0",
   "metadata": {},
   "source": [
    "Matrix Multiplication in NumPy"
   ]
  },
  {
   "cell_type": "code",
   "execution_count": 18,
   "id": "3b4eace8",
   "metadata": {},
   "outputs": [
    {
     "name": "stdout",
     "output_type": "stream",
     "text": [
      "Matrix p :\n",
      "[[1, 2], [2, 3]]\n",
      "Matrix q :\n",
      "[[4, 5], [6, 7]]\n",
      "The matrix multiplication is :\n",
      "[[16 19]\n",
      " [26 31]]\n"
     ]
    }
   ],
   "source": [
    "# creating two matrices\n",
    "p = [[1, 2], [2, 3]]\n",
    "q = [[4, 5], [6, 7]]\n",
    "print(\"Matrix p :\")\n",
    "print(p)\n",
    "print(\"Matrix q :\")\n",
    "print(q)\n",
    "  \n",
    "# computing product\n",
    "result = np.dot(p, q)\n",
    "\n",
    "  \n",
    "# printing the result\n",
    "print(\"The matrix multiplication is :\")\n",
    "print(result)"
   ]
  },
  {
   "cell_type": "code",
   "execution_count": 29,
   "id": "a70f58db",
   "metadata": {},
   "outputs": [
    {
     "name": "stdout",
     "output_type": "stream",
     "text": [
      "[122  39 153 163 121 154  91 109 154  76]\n"
     ]
    }
   ],
   "source": [
    "arr = np.random.randint(1,200,10)\n",
    "print(arr)"
   ]
  },
  {
   "cell_type": "code",
   "execution_count": 30,
   "id": "d80b85bb",
   "metadata": {},
   "outputs": [
    {
     "name": "stdout",
     "output_type": "stream",
     "text": [
      "[0.80992595 0.42337904 0.77684094 0.02296032 0.0203011  0.77841678\n",
      " 0.6743515  0.07607785 0.75651745 0.25682195 0.12224147 0.9018244\n",
      " 0.31103398 0.56800848 0.01096827 0.27508968 0.55205192 0.2932343\n",
      " 0.98620185 0.18193656]\n"
     ]
    }
   ],
   "source": [
    "arr1 = np.random.rand(20)\n",
    "print(arr1)"
   ]
  },
  {
   "cell_type": "code",
   "execution_count": 32,
   "id": "fadaca6b",
   "metadata": {},
   "outputs": [
    {
     "data": {
      "text/plain": [
       "array([[0.80992595, 0.42337904, 0.77684094, 0.02296032],\n",
       "       [0.0203011 , 0.77841678, 0.6743515 , 0.07607785],\n",
       "       [0.75651745, 0.25682195, 0.12224147, 0.9018244 ],\n",
       "       [0.31103398, 0.56800848, 0.01096827, 0.27508968],\n",
       "       [0.55205192, 0.2932343 , 0.98620185, 0.18193656]])"
      ]
     },
     "execution_count": 32,
     "metadata": {},
     "output_type": "execute_result"
    }
   ],
   "source": [
    "arr1.reshape(5,4)"
   ]
  },
  {
   "cell_type": "code",
   "execution_count": 33,
   "id": "9575296e",
   "metadata": {},
   "outputs": [
    {
     "data": {
      "text/plain": [
       "array([[0.80992595, 0.42337904, 0.77684094, 0.02296032, 0.0203011 ,\n",
       "        0.77841678, 0.6743515 , 0.07607785, 0.75651745, 0.25682195],\n",
       "       [0.12224147, 0.9018244 , 0.31103398, 0.56800848, 0.01096827,\n",
       "        0.27508968, 0.55205192, 0.2932343 , 0.98620185, 0.18193656]])"
      ]
     },
     "execution_count": 33,
     "metadata": {},
     "output_type": "execute_result"
    }
   ],
   "source": [
    "arr1.reshape(2,10)"
   ]
  },
  {
   "cell_type": "code",
   "execution_count": 34,
   "id": "d8c8fdac",
   "metadata": {},
   "outputs": [
    {
     "data": {
      "text/plain": [
       "array([4.        , 4.22222222, 4.44444444, 4.66666667, 4.88888889,\n",
       "       5.11111111, 5.33333333, 5.55555556, 5.77777778, 6.        ])"
      ]
     },
     "execution_count": 34,
     "metadata": {},
     "output_type": "execute_result"
    }
   ],
   "source": [
    "#a = np.array([10,20,30,40,50,60])\n",
    "np.linspace(4,6,10)"
   ]
  },
  {
   "cell_type": "code",
   "execution_count": 30,
   "id": "b0a0024c",
   "metadata": {},
   "outputs": [
    {
     "data": {
      "text/plain": [
       "0.22222221999999991"
      ]
     },
     "execution_count": 30,
     "metadata": {},
     "output_type": "execute_result"
    }
   ],
   "source": [
    " 4.22222222 -4"
   ]
  },
  {
   "cell_type": "code",
   "execution_count": 31,
   "id": "1a958f38",
   "metadata": {},
   "outputs": [
    {
     "data": {
      "text/plain": [
       "0.22222221999999991"
      ]
     },
     "execution_count": 31,
     "metadata": {},
     "output_type": "execute_result"
    }
   ],
   "source": [
    "4.44444444- 4.22222222"
   ]
  },
  {
   "cell_type": "code",
   "execution_count": 30,
   "id": "35fa0ef8",
   "metadata": {},
   "outputs": [
    {
     "data": {
      "text/plain": [
       "0.22222222999999985"
      ]
     },
     "execution_count": 30,
     "metadata": {},
     "output_type": "execute_result"
    }
   ],
   "source": [
    "4.66666667-4.44444444\n"
   ]
  },
  {
   "cell_type": "code",
   "execution_count": null,
   "id": "ae51a614",
   "metadata": {},
   "outputs": [],
   "source": []
  },
  {
   "cell_type": "code",
   "execution_count": 29,
   "id": "ab666aa6",
   "metadata": {},
   "outputs": [
    {
     "data": {
      "text/plain": [
       "0.20000000000000018"
      ]
     },
     "execution_count": 29,
     "metadata": {},
     "output_type": "execute_result"
    }
   ],
   "source": [
    "4.4-4.2"
   ]
  },
  {
   "cell_type": "code",
   "execution_count": 36,
   "id": "b8f421c2",
   "metadata": {},
   "outputs": [],
   "source": [
    "import pandas as pd"
   ]
  },
  {
   "cell_type": "code",
   "execution_count": 37,
   "id": "d82476c3",
   "metadata": {},
   "outputs": [],
   "source": [
    "df1= pd.read_csv(\"Advertising.csv\")"
   ]
  },
  {
   "cell_type": "code",
   "execution_count": 39,
   "id": "bfd7f60a",
   "metadata": {},
   "outputs": [
    {
     "data": {
      "text/html": [
       "<div>\n",
       "<style scoped>\n",
       "    .dataframe tbody tr th:only-of-type {\n",
       "        vertical-align: middle;\n",
       "    }\n",
       "\n",
       "    .dataframe tbody tr th {\n",
       "        vertical-align: top;\n",
       "    }\n",
       "\n",
       "    .dataframe thead th {\n",
       "        text-align: right;\n",
       "    }\n",
       "</style>\n",
       "<table border=\"1\" class=\"dataframe\">\n",
       "  <thead>\n",
       "    <tr style=\"text-align: right;\">\n",
       "      <th></th>\n",
       "      <th>Unnamed: 0</th>\n",
       "      <th>TV</th>\n",
       "      <th>radio</th>\n",
       "      <th>newspaper</th>\n",
       "      <th>sales</th>\n",
       "    </tr>\n",
       "  </thead>\n",
       "  <tbody>\n",
       "    <tr>\n",
       "      <th>0</th>\n",
       "      <td>1</td>\n",
       "      <td>230.1</td>\n",
       "      <td>37.8</td>\n",
       "      <td>69.2</td>\n",
       "      <td>22.1</td>\n",
       "    </tr>\n",
       "    <tr>\n",
       "      <th>1</th>\n",
       "      <td>2</td>\n",
       "      <td>44.5</td>\n",
       "      <td>39.3</td>\n",
       "      <td>45.1</td>\n",
       "      <td>10.4</td>\n",
       "    </tr>\n",
       "    <tr>\n",
       "      <th>2</th>\n",
       "      <td>3</td>\n",
       "      <td>17.2</td>\n",
       "      <td>45.9</td>\n",
       "      <td>69.3</td>\n",
       "      <td>9.3</td>\n",
       "    </tr>\n",
       "    <tr>\n",
       "      <th>3</th>\n",
       "      <td>4</td>\n",
       "      <td>151.5</td>\n",
       "      <td>41.3</td>\n",
       "      <td>58.5</td>\n",
       "      <td>18.5</td>\n",
       "    </tr>\n",
       "    <tr>\n",
       "      <th>4</th>\n",
       "      <td>5</td>\n",
       "      <td>180.8</td>\n",
       "      <td>10.8</td>\n",
       "      <td>58.4</td>\n",
       "      <td>12.9</td>\n",
       "    </tr>\n",
       "  </tbody>\n",
       "</table>\n",
       "</div>"
      ],
      "text/plain": [
       "   Unnamed: 0     TV  radio  newspaper  sales\n",
       "0           1  230.1   37.8       69.2   22.1\n",
       "1           2   44.5   39.3       45.1   10.4\n",
       "2           3   17.2   45.9       69.3    9.3\n",
       "3           4  151.5   41.3       58.5   18.5\n",
       "4           5  180.8   10.8       58.4   12.9"
      ]
     },
     "execution_count": 39,
     "metadata": {},
     "output_type": "execute_result"
    }
   ],
   "source": [
    "df1.head()"
   ]
  },
  {
   "cell_type": "code",
   "execution_count": 42,
   "id": "a65af69d",
   "metadata": {},
   "outputs": [
    {
     "data": {
      "text/html": [
       "<div>\n",
       "<style scoped>\n",
       "    .dataframe tbody tr th:only-of-type {\n",
       "        vertical-align: middle;\n",
       "    }\n",
       "\n",
       "    .dataframe tbody tr th {\n",
       "        vertical-align: top;\n",
       "    }\n",
       "\n",
       "    .dataframe thead th {\n",
       "        text-align: right;\n",
       "    }\n",
       "</style>\n",
       "<table border=\"1\" class=\"dataframe\">\n",
       "  <thead>\n",
       "    <tr style=\"text-align: right;\">\n",
       "      <th></th>\n",
       "      <th>Unnamed: 0</th>\n",
       "      <th>TV</th>\n",
       "      <th>radio</th>\n",
       "      <th>newspaper</th>\n",
       "      <th>sales</th>\n",
       "    </tr>\n",
       "  </thead>\n",
       "  <tbody>\n",
       "    <tr>\n",
       "      <th>0</th>\n",
       "      <td>1</td>\n",
       "      <td>230.1</td>\n",
       "      <td>37.8</td>\n",
       "      <td>69.2</td>\n",
       "      <td>22.1</td>\n",
       "    </tr>\n",
       "  </tbody>\n",
       "</table>\n",
       "</div>"
      ],
      "text/plain": [
       "   Unnamed: 0     TV  radio  newspaper  sales\n",
       "0           1  230.1   37.8       69.2   22.1"
      ]
     },
     "execution_count": 42,
     "metadata": {},
     "output_type": "execute_result"
    }
   ],
   "source": [
    "df1[df1['newspaper']==69.2]"
   ]
  },
  {
   "cell_type": "code",
   "execution_count": 43,
   "id": "fdc8a2fa",
   "metadata": {},
   "outputs": [
    {
     "data": {
      "text/plain": [
       "(array([0, 0, 0, 0, 0], dtype=int64), array([0, 1, 2, 3, 4], dtype=int64))"
      ]
     },
     "execution_count": 43,
     "metadata": {},
     "output_type": "execute_result"
    }
   ],
   "source": [
    "np.where(df1[df1['newspaper']==69.2])"
   ]
  },
  {
   "cell_type": "code",
   "execution_count": null,
   "id": "21ba675e",
   "metadata": {},
   "outputs": [],
   "source": []
  }
 ],
 "metadata": {
  "kernelspec": {
   "display_name": "Python 3 (ipykernel)",
   "language": "python",
   "name": "python3"
  },
  "language_info": {
   "codemirror_mode": {
    "name": "ipython",
    "version": 3
   },
   "file_extension": ".py",
   "mimetype": "text/x-python",
   "name": "python",
   "nbconvert_exporter": "python",
   "pygments_lexer": "ipython3",
   "version": "3.9.7"
  }
 },
 "nbformat": 4,
 "nbformat_minor": 5
}
